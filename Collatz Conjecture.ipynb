{
 "cells": [
  {
   "cell_type": "markdown",
   "id": "alleged-mississippi",
   "metadata": {},
   "source": [
    "# Some random visualisations and experiments with the infamous Collatz Conjecture"
   ]
  },
  {
   "cell_type": "code",
   "execution_count": 22,
   "id": "premium-export",
   "metadata": {},
   "outputs": [],
   "source": [
    "import matplotlib.pyplot as plt"
   ]
  },
  {
   "cell_type": "code",
   "execution_count": 35,
   "id": "stupid-indian",
   "metadata": {},
   "outputs": [],
   "source": [
    "def collatz_ize(n, dig_freq_first, dig_freq_last):\n",
    "    \n",
    "    while n!=1:\n",
    "        first = n//(10**(count_digs(n)-1))\n",
    "        last = n%10\n",
    "        dig_freq_first[first] += 1\n",
    "        dig_freq_last[last] += 1\n",
    "        if n%2==0:\n",
    "            n = n//2\n",
    "        else:\n",
    "            n = 3*n+1\n",
    "    \n",
    "    return True"
   ]
  },
  {
   "cell_type": "code",
   "execution_count": 36,
   "id": "mighty-nature",
   "metadata": {},
   "outputs": [],
   "source": [
    "def count_digs(n):\n",
    "    c = 0\n",
    "    while n>0:\n",
    "        n = n//10\n",
    "        c += 1\n",
    "    return c"
   ]
  },
  {
   "cell_type": "code",
   "execution_count": 58,
   "id": "greater-rotation",
   "metadata": {},
   "outputs": [],
   "source": [
    "dig_freq_first = {}\n",
    "dig_freq_last = {}\n",
    "\n",
    "for i in range(1,10):\n",
    "    dig_freq_first[i] = 0\n",
    "    dig_freq_last[i] = 0\n",
    "    \n",
    "dig_freq_last[0] = 0"
   ]
  },
  {
   "cell_type": "code",
   "execution_count": null,
   "id": "cellular-beast",
   "metadata": {},
   "outputs": [
    {
     "name": "stdout",
     "output_type": "stream",
     "text": [
      "9.5367431640625 % completed\n",
      "19.073486328125 % completed\n",
      "28.6102294921875 % completed\n",
      "38.14697265625 % completed\n",
      "47.6837158203125 % completed\n",
      "57.220458984375 % completed\n",
      "66.7572021484375 % completed\n"
     ]
    }
   ],
   "source": [
    "for i in range(1,2**20):\n",
    "    if i%100000==0:\n",
    "        print(i*100/2**20,\"% completed\")\n",
    "    collatz_ize(i, dig_freq_first, dig_freq_last)"
   ]
  },
  {
   "cell_type": "code",
   "execution_count": 53,
   "id": "independent-administrator",
   "metadata": {},
   "outputs": [
    {
     "data": {
      "text/plain": [
       "{1: 919651,\n",
       " 2: 555213,\n",
       " 3: 372621,\n",
       " 4: 371141,\n",
       " 5: 252011,\n",
       " 6: 177109,\n",
       " 7: 180418,\n",
       " 8: 175331,\n",
       " 9: 152696}"
      ]
     },
     "execution_count": 53,
     "metadata": {},
     "output_type": "execute_result"
    }
   ],
   "source": [
    "dig_freq_first"
   ]
  },
  {
   "cell_type": "code",
   "execution_count": 54,
   "id": "demographic-conversion",
   "metadata": {},
   "outputs": [
    {
     "data": {
      "text/plain": [
       "{1: 204983,\n",
       " 2: 426532,\n",
       " 3: 215359,\n",
       " 4: 419978,\n",
       " 5: 221912,\n",
       " 6: 417248,\n",
       " 7: 217428,\n",
       " 8: 395094,\n",
       " 9: 186652,\n",
       " 0: 451005}"
      ]
     },
     "execution_count": 54,
     "metadata": {},
     "output_type": "execute_result"
    }
   ],
   "source": [
    "dig_freq_last"
   ]
  },
  {
   "cell_type": "markdown",
   "id": "extraordinary-retro",
   "metadata": {},
   "source": [
    "## Plotting first digit distribution for all numbers we go through"
   ]
  },
  {
   "cell_type": "code",
   "execution_count": 55,
   "id": "qualified-illinois",
   "metadata": {},
   "outputs": [
    {
     "data": {
      "image/png": "[encoded data removed]",
      "text/plain": [
       "<Figure size 432x288 with 1 Axes>"
      ]
     },
     "metadata": {
      "needs_background": "light"
     },
     "output_type": "display_data"
    }
   ],
   "source": [
    "plt.bar(range(len(dig_freq_first)), list(dig_freq_first.values()), align='center', color=['bisque','orange','darkgoldenrod','salmon','yellowgreen','palegreen','darkseagreen','aquamarine','deepskyblue'])\n",
    "# plt.clim(0, 10)\n",
    "plt.xticks(range(len(dig_freq_first)), list(dig_freq_first.keys()))\n",
    "plt.title(\"First Digit distribution\")\n",
    "plt.show()"
   ]
  },
  {
   "cell_type": "markdown",
   "id": "blank-refrigerator",
   "metadata": {},
   "source": [
    "## Plotting last digit distribution for all numbers we go through"
   ]
  },
  {
   "cell_type": "code",
   "execution_count": 56,
   "id": "amazing-preference",
   "metadata": {},
   "outputs": [
    {
     "data": {
      "image/png": "[encoded data removed]",
      "text/plain": [
       "<Figure size 432x288 with 1 Axes>"
      ]
     },
     "metadata": {
      "needs_background": "light"
     },
     "output_type": "display_data"
    }
   ],
   "source": [
    "plt.bar(range(len(dig_freq_last)), list(dig_freq_last.values()), align='center', color=['bisque','orange','darkgoldenrod','salmon','indianred','palegreen','darkseagreen','aquamarine','deepskyblue','cornflowerblue'])\n",
    "# plt.clim(0, 10)\n",
    "plt.xticks(range(len(dig_freq_last)), list(dig_freq_last.keys()))\n",
    "plt.title(\"Last Digit distribution\")\n",
    "plt.show()"
   ]
  },
  {
   "cell_type": "code",
   "execution_count": null,
   "id": "electronic-weekend",
   "metadata": {},
   "outputs": [],
   "source": []
  }
 ],
 "metadata": {
  "kernelspec": {
   "display_name": "Python 3",
   "language": "python",
   "name": "python3"
  },
  "language_info": {
   "codemirror_mode": {
    "name": "ipython",
    "version": 3
   },
   "file_extension": ".py",
   "mimetype": "text/x-python",
   "name": "python",
   "nbconvert_exporter": "python",
   "pygments_lexer": "ipython3",
   "version": "3.8.5"
  }
 },
 "nbformat": 4,
 "nbformat_minor": 5
}
